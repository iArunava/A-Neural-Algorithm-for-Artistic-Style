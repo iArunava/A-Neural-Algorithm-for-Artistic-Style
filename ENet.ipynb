{
  "nbformat": 4,
  "nbformat_minor": 0,
  "metadata": {
    "colab": {
      "name": "ENet.ipynb",
      "version": "0.3.2",
      "provenance": [],
      "collapsed_sections": []
    },
    "kernelspec": {
      "name": "python3",
      "display_name": "Python 3"
    }
  },
  "cells": [
    {
      "metadata": {
        "id": "6KfA49eMjaOH",
        "colab_type": "code",
        "outputId": "daefc274-6e22-4da9-945d-2c92917cc47c",
        "colab": {
          "base_uri": "https://localhost:8080/",
          "height": 384
        }
      },
      "cell_type": "code",
      "source": [
        "!pip install torch torchvision"
      ],
      "execution_count": 0,
      "outputs": [
        {
          "output_type": "stream",
          "text": [
            "Collecting torch\n",
            "\u001b[?25l  Downloading https://files.pythonhosted.org/packages/7e/60/66415660aa46b23b5e1b72bc762e816736ce8d7260213e22365af51e8f9c/torch-1.0.0-cp36-cp36m-manylinux1_x86_64.whl (591.8MB)\n",
            "\u001b[K    100% |████████████████████████████████| 591.8MB 25kB/s \n",
            "tcmalloc: large alloc 1073750016 bytes == 0x62506000 @  0x7f1e8eac62a4 0x591a07 0x5b5d56 0x502e9a 0x506859 0x502209 0x502f3d 0x506859 0x504c28 0x502540 0x502f3d 0x506859 0x504c28 0x502540 0x502f3d 0x506859 0x504c28 0x502540 0x502f3d 0x507641 0x502209 0x502f3d 0x506859 0x504c28 0x502540 0x502f3d 0x507641 0x504c28 0x502540 0x502f3d 0x507641\n",
            "\u001b[?25hCollecting torchvision\n",
            "\u001b[?25l  Downloading https://files.pythonhosted.org/packages/ca/0d/f00b2885711e08bd71242ebe7b96561e6f6d01fdb4b9dcf4d37e2e13c5e1/torchvision-0.2.1-py2.py3-none-any.whl (54kB)\n",
            "\u001b[K    100% |████████████████████████████████| 61kB 25.3MB/s \n",
            "\u001b[?25hCollecting pillow>=4.1.1 (from torchvision)\n",
            "\u001b[?25l  Downloading https://files.pythonhosted.org/packages/85/5e/e91792f198bbc5a0d7d3055ad552bc4062942d27eaf75c3e2783cf64eae5/Pillow-5.4.1-cp36-cp36m-manylinux1_x86_64.whl (2.0MB)\n",
            "\u001b[K    100% |████████████████████████████████| 2.0MB 7.3MB/s \n",
            "\u001b[?25hRequirement already satisfied: numpy in /usr/local/lib/python3.6/dist-packages (from torchvision) (1.14.6)\n",
            "Requirement already satisfied: six in /usr/local/lib/python3.6/dist-packages (from torchvision) (1.11.0)\n",
            "Installing collected packages: torch, pillow, torchvision\n",
            "  Found existing installation: Pillow 4.0.0\n",
            "    Uninstalling Pillow-4.0.0:\n",
            "      Successfully uninstalled Pillow-4.0.0\n",
            "Successfully installed pillow-5.4.1 torch-1.0.0 torchvision-0.2.1\n",
            "\u001b[0;31;1mWARNING: The following packages were previously imported in this runtime:\n",
            "  [PIL]\n",
            "You must restart the runtime in order to use newly installed versions.\u001b[0m\n"
          ],
          "name": "stdout"
        }
      ]
    },
    {
      "metadata": {
        "id": "VcU98cbVppiu",
        "colab_type": "code",
        "colab": {}
      },
      "cell_type": "code",
      "source": [
        "# Load zip from Google Drive\n",
        "from google.colab import drive\n",
        "drive.mount('/content/gdrive')\n",
        "!unzip gdrive/My\\ Drive/data_semantics.zip"
      ],
      "execution_count": 0,
      "outputs": []
    },
    {
      "metadata": {
        "id": "5NCTHdEqj317",
        "colab_type": "code",
        "colab": {}
      },
      "cell_type": "code",
      "source": [
        "import torch\n",
        "import torch.nn as nn\n",
        "import torch.nn.functional as F\n",
        "import numpy as np"
      ],
      "execution_count": 0,
      "outputs": []
    },
    {
      "metadata": {
        "id": "kNhlY6tmlDav",
        "colab_type": "code",
        "colab": {}
      },
      "cell_type": "code",
      "source": [
        "def model():\n",
        "    # Intial Block\n",
        "    \n",
        "    # Stage 1\n",
        "    \n",
        "    # Stage 2\n",
        "    \n",
        "    # Stage 3\n",
        "    \n",
        "    # Stage 4\n",
        "    \n",
        "    # Stage 5\n",
        "    \n",
        "    return model"
      ],
      "execution_count": 0,
      "outputs": []
    },
    {
      "metadata": {
        "id": "QsMpONNKeD4N",
        "colab_type": "code",
        "colab": {}
      },
      "cell_type": "code",
      "source": [
        "DS = 'downsampling'\n",
        "AS = 'asymetric'\n",
        "D = 'Dilated'\n",
        "R = 'regular'"
      ],
      "execution_count": 0,
      "outputs": []
    },
    {
      "metadata": {
        "id": "sTvK1Khwlhuo",
        "colab_type": "code",
        "colab": {}
      },
      "cell_type": "code",
      "source": [
        "class ENet(nn.Module):\n",
        "    \n",
        "    def __init__(self):\n",
        "        \n",
        "        self.i_conv = nn.Conv2d(in_channels = 3, \n",
        "                                out_channels = 13, \n",
        "                                kernel_size = 3,\n",
        "                                stride = 2,\n",
        "                                bias = True)\n",
        "        \n",
        "        self.i_maxpool = nn.MaxPool2d(kernel_size=2,\n",
        "                                      stride = None, # and thus stride = 2, which makes it non-overlapping\n",
        "                                      padding = 0)\n",
        "        \n",
        "        \n",
        "        self.dropout_001 = nn.Dropout2d(p=0.01)\n",
        "        self.dropout_01 = nn.Dropout2d(p=0.1)\n",
        "        \n",
        "        ########### B 1.0  ####################\n",
        "        \n",
        "        self.conv1_1_0, self.prelu1_1_0, self.conv2_1_0, \\\n",
        "        self.prelu2_1_0, self.conv3_1_0, self.maxpool1 = self.bottleneck(stage = 1, \n",
        "                                                                         position = 0, \n",
        "                                                                         flag = DS)\n",
        "        \n",
        "        ########### B 1.1  ####################\n",
        "        \n",
        "        self.conv1_1_1, self.prelu1_1_1, self.conv2_1_1, \\\n",
        "        self.prelu2_1_1, self.conv3_1_1 = self.bottleneck(stage = 1, \n",
        "                                                          position = 0, \n",
        "                                                          flag = R)\n",
        "        \n",
        "        ########### B 1.2  ####################\n",
        "        \n",
        "        self.conv1_1_2, self.prelu1_1_2, self.conv2_1_2, \\\n",
        "        self.prelu2_1_2, self.conv3_1_2 = self.bottleneck(stage = 1, \n",
        "                                                          position = 0, \n",
        "                                                          flag = R)\n",
        "        \n",
        "        ########### B 1.3  ####################\n",
        "        \n",
        "        self.conv1_1_3, self.prelu1_1_3, self.conv2_1_3, \\\n",
        "        self.prelu2_1_3, self.conv3_1_3 = self.bottleneck(stage = 1, \n",
        "                                                          position = 0, \n",
        "                                                          flag = R)\n",
        "        \n",
        "        ########### B 1.4  ####################\n",
        "        \n",
        "        self.conv1_1_4, self.prelu1_1_4, self.conv2_1_4, \\\n",
        "        self.prelu2_1_4, self.conv3_1_4 = self.bottleneck(stage = 1, \n",
        "                                                          position = 0, \n",
        "                                                          flag = R)\n",
        "        \n",
        "        #######################################\n",
        "        \n",
        "        ########### B 2.0  ####################\n",
        "        \n",
        "        \n",
        "        #######################################\n",
        "        \n",
        "        \n",
        "        ########### B 3.0  ####################\n",
        "        \n",
        "        \n",
        "        #######################################\n",
        "        \n",
        "        \n",
        "        ########### B 4.0  ####################\n",
        "        \n",
        "        \n",
        "        #######################################\n",
        "        \n",
        "        ########### B 5.0  ####################\n",
        "        \n",
        "        \n",
        "        #######################################\n",
        "        \n",
        "    def forward(self, x):\n",
        "        \n",
        "        x_copy = x.clone()\n",
        "        \n",
        "        ### Initial Block ###\n",
        "        x1 = self.i_conv(x)\n",
        "        x2 = self.i_maxpool(x)\n",
        "        x = torch.cat((x1, x2), 0)\n",
        "        \n",
        "        ### Stage 1 ###\n",
        "        ## BottleNeck 1.0 ##\n",
        "        # Main Branch\n",
        "        x1 = self.maxpool_1_0(x)\n",
        "        # Side Branch\n",
        "        x2 = self.conv1_1_0(x)\n",
        "        x2 = self.batchnorm_1_0(x2)\n",
        "        x2 = self.prelu1_1_0(x2)\n",
        "        \n",
        "        x2 = self.conv2_1_0(x2)\n",
        "        x2 = self.batchnorm_1_0(x2)\n",
        "        x2 = self.prelu2_1_0(x2)\n",
        "        \n",
        "        x2 = self.conv3_1_0(x2)\n",
        "        \n",
        "        x2  = self.dropout_001(x2)\n",
        "            \n",
        "        # Concatenate\n",
        "        x = torch.cat((x1, x2), 0)\n",
        "        x = self.prelu_1_0(x)\n",
        "        \n",
        "        ## BottleNeck 1.1 ##\n",
        "        \n",
        "        ### Stage 2 ###\n",
        "        \n",
        "    \n",
        "    def bottleneck(self, stage, position, flag='regular'):\n",
        "        in_channels = 0\n",
        "        out_channels = 0\n",
        "        \n",
        "        kernel1 = 1\n",
        "        kernel2 = 3\n",
        "        kernel3 = 1\n",
        "        \n",
        "        stride1 = 1\n",
        "        \n",
        "        prob = 0.1\n",
        "        \n",
        "        hw = 64\n",
        "        \n",
        "        if stage == 1:\n",
        "            in_channels = 16\n",
        "            out_channels = 64\n",
        "            prob = 0.01\n",
        "            hw = 128\n",
        "        elif stage == 2:\n",
        "            in_channels = 64\n",
        "            out_channels = 128\n",
        "        elif stage == 3:\n",
        "            in_channels = 128\n",
        "            out_channels = 128\n",
        "        elif stage == 4:\n",
        "            in_channels = 128\n",
        "            out_channels = 64\n",
        "            hw = 128\n",
        "        elif stage == 5:\n",
        "            in_channels = 64\n",
        "            out_channels = 16\n",
        "            hw = 256\n",
        "            \n",
        "        if flag == DS:\n",
        "            kernel1 = 2\n",
        "            stride1 = 2\n",
        "            \n",
        "        \n",
        "        # Side branch\n",
        "        conv1 = nn.Conv2d(in_channels = in_channels,\n",
        "                       out_channels = out_channels,\n",
        "                       kernel_size = kernel1,\n",
        "                       stride = stride1,\n",
        "                       padding = 0,\n",
        "                       bias = False)\n",
        "        \n",
        "        prelu1 = nn.PReLU()\n",
        "        \n",
        "        conv2 = nn.Conv2d(in_channels = out_channels,\n",
        "                          out_channels = out_channels,\n",
        "                          kernel_size = kernel2,\n",
        "                          stride = 1,\n",
        "                          padding = 1,\n",
        "                          bias = True)\n",
        "        \n",
        "        prelu2 = nn.PReLU()\n",
        "        \n",
        "        conv3 = nn.Conv2d(in_channels = out_channels,\n",
        "                          out_channels = out_channels,\n",
        "                          kernel_size = kernel3,\n",
        "                          stride = 1,\n",
        "                          padding = 0,\n",
        "                          bias = False)\n",
        "        \n",
        "        # Main Branch\n",
        "        \n",
        "        if (flag == DS):\n",
        "            max1 = nn.MaxPool2d(kernel_size = 2,\n",
        "                                  stride = 2,\n",
        "                                  padding = 0)\n",
        "            return conv1, prelu1, conv2, prelu2, conv3, max1\n",
        "        \n",
        "        #extras = torch.zeros((, hw, hw))\n",
        "        \n",
        "        return conv1, prelu1, conv2, prelu2, conv3"
      ],
      "execution_count": 0,
      "outputs": []
    },
    {
      "metadata": {
        "id": "FeRRrv7pegWn",
        "colab_type": "code",
        "outputId": "53f920c3-10c6-4d49-9af6-6c9b95b2d28a",
        "colab": {
          "base_uri": "https://localhost:8080/",
          "height": 34
        }
      },
      "cell_type": "code",
      "source": [
        "np.random.rand()\n",
        "x1 = torch.tensor([1, 2, 3])\n",
        "torch.zeros_like(x1)"
      ],
      "execution_count": 0,
      "outputs": [
        {
          "output_type": "execute_result",
          "data": {
            "text/plain": [
              "tensor([0, 0, 0])"
            ]
          },
          "metadata": {
            "tags": []
          },
          "execution_count": 47
        }
      ]
    },
    {
      "metadata": {
        "id": "_0AWcwkjpYzV",
        "colab_type": "code",
        "colab": {}
      },
      "cell_type": "code",
      "source": [
        "\n",
        "x1 = np.random.randn(13, 3, 32)\n",
        "x2 = np.random.randn(3, 3, 32)\n",
        "x3 = torch.cat((torch.from_numpy(x1), torch.from_numpy(x2)), 0)"
      ],
      "execution_count": 0,
      "outputs": []
    },
    {
      "metadata": {
        "id": "QHxSIauVqxZD",
        "colab_type": "code",
        "outputId": "c29812e3-9453-4cd0-b6f4-d4565e4d7e55",
        "colab": {
          "base_uri": "https://localhost:8080/",
          "height": 50
        }
      },
      "cell_type": "code",
      "source": [
        "print (x1.shape)\n",
        "print (x2.shape)"
      ],
      "execution_count": 0,
      "outputs": [
        {
          "output_type": "stream",
          "text": [
            "(13, 3, 32)\n",
            "(3, 3, 32)\n"
          ],
          "name": "stdout"
        }
      ]
    },
    {
      "metadata": {
        "id": "0fFBHA95q5Oi",
        "colab_type": "code",
        "outputId": "642c1501-6c9b-4320-8a3f-a4fff1073f60",
        "colab": {
          "base_uri": "https://localhost:8080/",
          "height": 34
        }
      },
      "cell_type": "code",
      "source": [
        "print (x3.shape)"
      ],
      "execution_count": 0,
      "outputs": [
        {
          "output_type": "stream",
          "text": [
            "torch.Size([16, 3, 32])\n"
          ],
          "name": "stdout"
        }
      ]
    },
    {
      "metadata": {
        "id": "my3Dz2KZJGou",
        "colab_type": "code",
        "colab": {}
      },
      "cell_type": "code",
      "source": [
        "import numpy as np"
      ],
      "execution_count": 0,
      "outputs": []
    },
    {
      "metadata": {
        "id": "RujGBN2OrnKO",
        "colab_type": "code",
        "colab": {}
      },
      "cell_type": "code",
      "source": [
        "import cv2\n",
        "def creat_mask(img,color_map):\n",
        "  mask = []\n",
        "  img = cv2.cvtColor(img, cv2.COLOR_BGR2RGB)\n",
        "  for i in color_map:\n",
        "    for j in range(3):\n",
        "      color_img = np.ones_like(img) * i[j]\n",
        "      plt.imshow(color_img)\n",
        "      \n",
        "    #mask.append(cv2.bitwise_and(img,color_img,i))\n",
        "  return np.array(mask)"
      ],
      "execution_count": 0,
      "outputs": []
    },
    {
      "metadata": {
        "id": "Fm5dKdG-r8hc",
        "colab_type": "code",
        "colab": {}
      },
      "cell_type": "code",
      "source": [
        "color_img = []\n",
        "for i in color_map:\n",
        "  for j in range(3):\n",
        "    color_img.append(np.ones((512,512)) * i[j])\n",
        "      #plt.imshow(color_img)"
      ],
      "execution_count": 0,
      "outputs": []
    },
    {
      "metadata": {
        "id": "8UFSZcEGsZaA",
        "colab_type": "code",
        "outputId": "ed3e9bc3-5e96-41fc-d4ac-50fdec6fe76c",
        "colab": {
          "base_uri": "https://localhost:8080/",
          "height": 178
        }
      },
      "cell_type": "code",
      "source": [
        "np.array( color_img).shape\n",
        "plt.imshow(np.array(color_img[:3,:,:]))"
      ],
      "execution_count": 0,
      "outputs": [
        {
          "output_type": "error",
          "ename": "TypeError",
          "evalue": "ignored",
          "traceback": [
            "\u001b[0;31m---------------------------------------------------------------------------\u001b[0m",
            "\u001b[0;31mTypeError\u001b[0m                                 Traceback (most recent call last)",
            "\u001b[0;32m<ipython-input-51-9ce6fdbd2a73>\u001b[0m in \u001b[0;36m<module>\u001b[0;34m()\u001b[0m\n\u001b[1;32m      1\u001b[0m \u001b[0mnp\u001b[0m\u001b[0;34m.\u001b[0m\u001b[0marray\u001b[0m\u001b[0;34m(\u001b[0m \u001b[0mcolor_img\u001b[0m\u001b[0;34m)\u001b[0m\u001b[0;34m.\u001b[0m\u001b[0mshape\u001b[0m\u001b[0;34m\u001b[0m\u001b[0;34m\u001b[0m\u001b[0m\n\u001b[0;32m----> 2\u001b[0;31m \u001b[0mplt\u001b[0m\u001b[0;34m.\u001b[0m\u001b[0mimshow\u001b[0m\u001b[0;34m(\u001b[0m\u001b[0mnp\u001b[0m\u001b[0;34m.\u001b[0m\u001b[0marray\u001b[0m\u001b[0;34m(\u001b[0m\u001b[0mcolor_img\u001b[0m\u001b[0;34m[\u001b[0m\u001b[0;34m:\u001b[0m\u001b[0;36m3\u001b[0m\u001b[0;34m,\u001b[0m\u001b[0;34m:\u001b[0m\u001b[0;34m,\u001b[0m\u001b[0;34m:\u001b[0m\u001b[0;34m]\u001b[0m\u001b[0;34m)\u001b[0m\u001b[0;34m)\u001b[0m\u001b[0;34m\u001b[0m\u001b[0;34m\u001b[0m\u001b[0m\n\u001b[0m",
            "\u001b[0;31mTypeError\u001b[0m: list indices must be integers or slices, not tuple"
          ]
        }
      ]
    },
    {
      "metadata": {
        "id": "dZOE3n1MoFTc",
        "colab_type": "code",
        "colab": {}
      },
      "cell_type": "code",
      "source": [
        "import matplotlib.pyplot as plt"
      ],
      "execution_count": 0,
      "outputs": []
    },
    {
      "metadata": {
        "id": "jK0ChQrAVhpm",
        "colab_type": "code",
        "colab": {}
      },
      "cell_type": "code",
      "source": [
        "color_map = [\n",
        "    (128, 64,128),\n",
        "    (0, 0, 0),\n",
        "    (244, 35,232),\n",
        "    ( 0, 0,142)\n",
        "]"
      ],
      "execution_count": 0,
      "outputs": []
    },
    {
      "metadata": {
        "id": "kAQs_iPEVbGS",
        "colab_type": "code",
        "colab": {}
      },
      "cell_type": "code",
      "source": [
        "a = creat_mask(simg, color_map=color_map)"
      ],
      "execution_count": 0,
      "outputs": []
    },
    {
      "metadata": {
        "id": "ofQEg6quWf-w",
        "colab_type": "code",
        "outputId": "7d26babb-2f39-447b-971b-b70816a742fd",
        "colab": {
          "base_uri": "https://localhost:8080/",
          "height": 34
        }
      },
      "cell_type": "code",
      "source": [
        "a.shape"
      ],
      "execution_count": 0,
      "outputs": [
        {
          "output_type": "execute_result",
          "data": {
            "text/plain": [
              "(4, 375, 1242, 3)"
            ]
          },
          "metadata": {
            "tags": []
          },
          "execution_count": 30
        }
      ]
    },
    {
      "metadata": {
        "id": "pNURC5A8WkEO",
        "colab_type": "code",
        "outputId": "81b44442-843c-44cb-8b92-6ff728fc40a4",
        "colab": {
          "base_uri": "https://localhost:8080/",
          "height": 204
        }
      },
      "cell_type": "code",
      "source": [
        "plt.imshow(a[3, :, :, :])"
      ],
      "execution_count": 0,
      "outputs": [
        {
          "output_type": "execute_result",
          "data": {
            "text/plain": [
              "<matplotlib.image.AxesImage at 0x7fc931822fd0>"
            ]
          },
          "metadata": {
            "tags": []
          },
          "execution_count": 32
        },
        {
          "output_type": "display_data",
          "data": {
            "image/png": "[encoded data removed]",
            "text/plain": [
              "<matplotlib.figure.Figure at 0x7fc9319d5550>"
            ]
          },
          "metadata": {
            "tags": []
          }
        }
      ]
    },
    {
      "metadata": {
        "id": "ALlh3g0nWsC5",
        "colab_type": "code",
        "outputId": "4469aae7-6705-4038-db34-69ced659a6d1",
        "colab": {
          "base_uri": "https://localhost:8080/",
          "height": 34
        }
      },
      "cell_type": "code",
      "source": [
        "a[3 :, :, :].sum()"
      ],
      "execution_count": 0,
      "outputs": [
        {
          "output_type": "execute_result",
          "data": {
            "text/plain": [
              "2.8420357e-31"
            ]
          },
          "metadata": {
            "tags": []
          },
          "execution_count": 33
        }
      ]
    },
    {
      "metadata": {
        "id": "Jz-jwFsPWvp_",
        "colab_type": "code",
        "outputId": "3864e030-e442-48c0-c23e-c886402d8334",
        "colab": {
          "base_uri": "https://localhost:8080/",
          "height": 204
        }
      },
      "cell_type": "code",
      "source": [
        "plt.imshow(simg)"
      ],
      "execution_count": 0,
      "outputs": [
        {
          "output_type": "execute_result",
          "data": {
            "text/plain": [
              "<matplotlib.image.AxesImage at 0x7fc9318e8e48>"
            ]
          },
          "metadata": {
            "tags": []
          },
          "execution_count": 27
        },
        {
          "output_type": "display_data",
          "data": {
            "image/png": "[encoded data removed]",
            "text/plain": [
              "<matplotlib.figure.Figure at 0x7fc93196b6d8>"
            ]
          },
          "metadata": {
            "tags": []
          }
        }
      ]
    },
    {
      "metadata": {
        "id": "W64vRAgqX7_N",
        "colab_type": "code",
        "colab": {}
      },
      "cell_type": "code",
      "source": [
        ""
      ],
      "execution_count": 0,
      "outputs": []
    }
  ]
}